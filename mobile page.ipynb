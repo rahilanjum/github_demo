{
 "cells": [
  {
   "cell_type": "code",
   "execution_count": 32,
   "metadata": {},
   "outputs": [
    {
     "name": "stdout",
     "output_type": "stream",
     "text": [
      "['Build', 'Android 9.0 (Pie); Android One', '159.4 x 76.2 x 8.6 mm', '181 g', 'Dual Sim, Dual Standby (Nano-SIM)', 'Black, Steel', 'Frequency', 'SIM1:GSM 850 / 900 / 1800 / 1900SIM2:GSM 850 / 900 / 1800 / 1900', 'HSDPA 850 / 900 / 2100', 'LTE band 1(2100), 3(1800), 5(850), 7(2600), 8(900), 20(800), 28(700), 38(2600), 40(2300), 41(2500)', 'Processor', '1.8 Ghz Octa Core Cortex-A53', 'Qualcomm Snapdragon 439 (12 nm)', 'Adreno 504', 'Display', 'IPS LCD Capacitive Touchscreen, 16M Colors, Multitouch', '6.3 Inches', '720 x 1520 Pixels (~269 PPI)', 'Memory', '32GB Built-in, 3GB RAM', 'microSD Card, (supports up to 400GB)', 'Camera', '13 MP, 1/3\", AF, LED Flash', 'Exposure compensation, ISO control, Continuos Shooting, High Dynamic Range mode (HDR), Digital Zoom, Auto Flash, Face detection, Touch to focus, Video (1080p@30fps)', '5 MP', 'Connectivity', 'Wi-Fi 802.11 b/g/n, hotspot', 'v4.2 with A2DP, LE', 'Yes +  A-GPS support, & GLONASS, BDS', 'FM Radio', 'microUSBv2.0', 'Yes', 'GPRS, Edge, 3G (HSPA 42.2/5.76 Mbps), 4G (LTE Cat4 150/50 Mbps)', 'Features', 'Accelerometer, Face ID, Fingerprint (rear mounted, 32/3GB only), Proximity', '3.5mm Audio Jack, MP4/H.264 player, MP3/WAV/eAAC+/FLAC player, Speaker Phone', 'HTML5', 'SMS(threaded view), MMS, Email, Push Mail, IM', 'Built-in + Downloadable', 'Yes', 'Active noise cancellation with dedicated mic, Document viewer/editor, Photo/video editor', 'Battery', '(Li-ion Non removable), 4000 mAh', 'up to 35 hrs', 'up to 98 hrs']\n"
     ]
    }
   ],
   "source": [
    "import bs4 as bs\n",
    "import urllib.request\n",
    "\n",
    "source = urllib.request.urlopen('https://www.whatmobile.com.pk/Nokia_3.2-32GB').read()\n",
    "soup = bs.BeautifulSoup(source,'lxml')\n",
    "\n",
    "contentTable  = soup.find('table', { \"class\" : \"specs\"})\n",
    "\n",
    "rows  = contentTable.find_all('td')\n",
    "\n",
    "table1 = []\n",
    "for row in rows:\n",
    "    table1.append(row.get_text(strip=True))\n",
    "\n",
    "print(table1)\n"
   ]
  },
  {
   "cell_type": "code",
   "execution_count": null,
   "metadata": {},
   "outputs": [],
   "source": []
  },
  {
   "cell_type": "code",
   "execution_count": 17,
   "metadata": {},
   "outputs": [
    {
     "name": "stdout",
     "output_type": "stream",
     "text": [
      "['Android 9.0 (Pie); Android One', '159.4 x 76.2 x 8.6 mm', '181 g', 'Dual Sim, Dual Standby (Nano-SIM)', 'Black, Steel', 'SIM1:GSM 850 / 900 / 1800 / 1900SIM2:GSM 850 / 900 / 1800 / 1900', 'HSDPA 850 / 900 / 2100', 'LTE band 1(2100), 3(1800), 5(850), 7(2600), 8(900), 20(800), 28(700), 38(2600), 40(2300), 41(2500)', '1.8 Ghz Octa Core Cortex-A53', 'Qualcomm Snapdragon 439 (12 nm)', 'Adreno 504', 'IPS LCD Capacitive Touchscreen, 16M Colors, Multitouch', '6.3 Inches', '720 x 1520 Pixels (~269 PPI)', '32GB Built-in, 3GB RAM', 'microSD Card, (supports up to 400GB)', '13 MP, 1/3\", AF, LED Flash', 'Exposure compensation, ISO control, Continuos Shooting, High Dynamic Range mode (HDR), Digital Zoom, Auto Flash, Face detection, Touch to focus, Video (1080p@30fps)', '5 MP', 'Wi-Fi 802.11 b/g/n, hotspot', 'v4.2 with A2DP, LE', 'Yes +  A-GPS support, & GLONASS, BDS', 'FM Radio', 'microUSBv2.0', 'Yes', 'GPRS, Edge, 3G (HSPA 42.2/5.76 Mbps), 4G (LTE Cat4 150/50 Mbps)', 'Accelerometer, Face ID, Fingerprint (rear mounted, 32/3GB only), Proximity', '3.5mm Audio Jack, MP4/H.264 player, MP3/WAV/eAAC+/FLAC player, Speaker Phone', 'HTML5', 'SMS(threaded view), MMS, Email, Push Mail, IM', 'Built-in + Downloadable', 'Yes', 'Active noise cancellation with dedicated mic, Document viewer/editor, Photo/video editor', '(Li-ion Non removable), 4000 mAh', 'up to 35 hrs', 'up to 98 hrs']\n"
     ]
    }
   ],
   "source": [
    "popped_out = [ -4, -11, -18, -21, -23, -26, -29, -32, -37] # using indexing method\n",
    "\n",
    "for c in sorted(popped_out, reverse = True):\n",
    "    del table1[c]\n",
    "\n",
    "print (table1)\n"
   ]
  },
  {
   "cell_type": "code",
   "execution_count": 18,
   "metadata": {},
   "outputs": [
    {
     "name": "stdout",
     "output_type": "stream",
     "text": [
      "['OS', 'Dimensions', 'Weight', 'SIM', 'Colors', '2G Band', '3G Band', '4G Band', 'CPU', 'Chipset', 'GPU', 'Technology', 'Size', 'Resolution', 'Built-in', 'Card', 'Main', 'Features', 'Front', 'WLAN', 'Bluetooth', 'GPS', 'Radio', 'USB', 'NFC', 'Data', 'Sensors', 'Audio', 'Browser', 'Messaging', 'Games', 'Torch', 'Extra', 'Capacity', 'Talktime', 'Musicplay']\n"
     ]
    }
   ],
   "source": [
    "c = contentTable.find_all('th')\n",
    "\n",
    "table2 = []\n",
    "for check in c:\n",
    "    table2.append(check.get_text())\n",
    "\n",
    "\n",
    "print(table2)\n"
   ]
  },
  {
   "cell_type": "code",
   "execution_count": 19,
   "metadata": {},
   "outputs": [
    {
     "name": "stdout",
     "output_type": "stream",
     "text": [
      "{'OS': 'Android 9.0 (Pie); Android One', 'Dimensions': '159.4 x 76.2 x 8.6 mm', 'Weight': '181 g', 'SIM': 'Dual Sim, Dual Standby (Nano-SIM)', 'Colors': 'Black, Steel', '2G Band': 'SIM1:GSM 850 / 900 / 1800 / 1900SIM2:GSM 850 / 900 / 1800 / 1900', '3G Band': 'HSDPA 850 / 900 / 2100', '4G Band': 'LTE band 1(2100), 3(1800), 5(850), 7(2600), 8(900), 20(800), 28(700), 38(2600), 40(2300), 41(2500)', 'CPU': '1.8 Ghz Octa Core Cortex-A53', 'Chipset': 'Qualcomm Snapdragon 439 (12 nm)', 'GPU': 'Adreno 504', 'Technology': 'IPS LCD Capacitive Touchscreen, 16M Colors, Multitouch', 'Size': '6.3 Inches', 'Resolution': '720 x 1520 Pixels (~269 PPI)', 'Built-in': '32GB Built-in, 3GB RAM', 'Card': 'microSD Card, (supports up to 400GB)', 'Main': '13 MP, 1/3\", AF, LED Flash', 'Features': 'Exposure compensation, ISO control, Continuos Shooting, High Dynamic Range mode (HDR), Digital Zoom, Auto Flash, Face detection, Touch to focus, Video (1080p@30fps)', 'Front': '5 MP', 'WLAN': 'Wi-Fi 802.11 b/g/n, hotspot', 'Bluetooth': 'v4.2 with A2DP, LE', 'GPS': 'Yes +  A-GPS support, & GLONASS, BDS', 'Radio': 'FM Radio', 'USB': 'microUSBv2.0', 'NFC': 'Yes', 'Data': 'GPRS, Edge, 3G (HSPA 42.2/5.76 Mbps), 4G (LTE Cat4 150/50 Mbps)', 'Sensors': 'Accelerometer, Face ID, Fingerprint (rear mounted, 32/3GB only), Proximity', 'Audio': '3.5mm Audio Jack, MP4/H.264 player, MP3/WAV/eAAC+/FLAC player, Speaker Phone', 'Browser': 'HTML5', 'Messaging': 'SMS(threaded view), MMS, Email, Push Mail, IM', 'Games': 'Built-in + Downloadable', 'Torch': 'Yes', 'Extra': 'Active noise cancellation with dedicated mic, Document viewer/editor, Photo/video editor', 'Capacity': '(Li-ion Non removable), 4000 mAh', 'Talktime': 'up to 35 hrs', 'Musicplay': 'up to 98 hrs'}\n"
     ]
    }
   ],
   "source": [
    "# merging two lists\n",
    "\n",
    "data = dict(zip(table2, table1))\n",
    "\n",
    "print(data)"
   ]
  },
  {
   "cell_type": "code",
   "execution_count": 5,
   "metadata": {},
   "outputs": [
    {
     "name": "stdout",
     "output_type": "stream",
     "text": [
      "OS Android 9.0 (Pie); Android One\n",
      "Dimensions 159.4 x 76.2 x 8.6 mm\n",
      "Weight 181 g\n",
      "SIM Dual Sim, Dual Standby (Nano-SIM)\n",
      "Colors Black, Steel\n",
      "2G Band SIM1:GSM 850 / 900 / 1800 / 1900SIM2:GSM 850 / 900 / 1800 / 1900\n",
      "3G Band HSDPA 850 / 900 / 2100\n",
      "4G Band LTE band 1(2100), 3(1800), 5(850), 7(2600), 8(900), 20(800), 28(700), 38(2600), 40(2300), 41(2500)\n",
      "CPU 1.8 Ghz Octa Core Cortex-A53\n",
      "Chipset Qualcomm Snapdragon 439 (12 nm)\n",
      "GPU Adreno 504\n",
      "Technology IPS LCD Capacitive Touchscreen, 16M Colors, Multitouch\n",
      "Size 6.3 Inches\n",
      "Resolution 720 x 1520 Pixels (~269 PPI)\n",
      "Built-in 32GB Built-in, 3GB RAM\n",
      "Card microSD Card, (supports up to 400GB)\n",
      "Main 13 MP, 1/3\", AF, LED Flash\n",
      "Features Exposure compensation, ISO control, Continuos Shooting, High Dynamic Range mode (HDR), Digital Zoom, Auto Flash, Face detection, Touch to focus, Video (1080p@30fps)\n",
      "Front 5 MP\n",
      "WLAN Wi-Fi 802.11 b/g/n, hotspot\n",
      "Bluetooth v4.2 with A2DP, LE\n",
      "GPS Yes +  A-GPS support, & GLONASS, BDS\n",
      "Radio FM Radio\n",
      "USB microUSBv2.0\n",
      "NFC Yes\n",
      "Data GPRS, Edge, 3G (HSPA 42.2/5.76 Mbps), 4G (LTE Cat4 150/50 Mbps)\n",
      "Sensors Accelerometer, Face ID, Fingerprint (rear mounted, 32/3GB only), Proximity\n",
      "Audio 3.5mm Audio Jack, MP4/H.264 player, MP3/WAV/eAAC+/FLAC player, Speaker Phone\n",
      "Browser HTML5\n",
      "Messaging SMS(threaded view), MMS, Email, Push Mail, IM\n",
      "Games Built-in + Downloadable\n",
      "Torch Yes\n",
      "Extra Active noise cancellation with dedicated mic, Document viewer/editor, Photo/video editor\n",
      "Capacity (Li-ion Non removable), 4000 mAh\n",
      "Talktime up to 35 hrs\n",
      "Musicplay up to 98 hrs\n"
     ]
    }
   ],
   "source": [
    "import csv\n",
    "\n",
    "for x, y in data.items():\n",
    "  print(x, y)\n",
    "\n",
    "with open(\"whatmobile.csv\", \"w\", newline=\"\") as f:\n",
    "    data_handler = csv.writer(f, delimiter=\",\")\n",
    "    data_handler.writerow(table2)\n",
    "    data_handler.writerow(table1)"
   ]
  },
  {
   "cell_type": "code",
   "execution_count": null,
   "metadata": {},
   "outputs": [],
   "source": []
  }
 ],
 "metadata": {
  "kernelspec": {
   "display_name": "Python 3",
   "language": "python",
   "name": "python3"
  },
  "language_info": {
   "codemirror_mode": {
    "name": "ipython",
    "version": 3
   },
   "file_extension": ".py",
   "mimetype": "text/x-python",
   "name": "python",
   "nbconvert_exporter": "python",
   "pygments_lexer": "ipython3",
   "version": "3.7.3"
  }
 },
 "nbformat": 4,
 "nbformat_minor": 2
}
